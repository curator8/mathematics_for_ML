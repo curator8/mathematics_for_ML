{
 "cells": [
  {
   "cell_type": "markdown",
   "id": "7c0bec74",
   "metadata": {},
   "source": [
    "Problem with t-test that they ignores indivdiual differences. So we use correlation to measure individual variability. Correlation coefficient r is a single number that shows the linear relationship between two variables. The correlation coefficient -1 to +1. Correlation coefficent itself is a continuous measures of correaltion. \n",
    "\n",
    "We can also talk about correlation strengths. The stronger the more linear it'll look. Correlation merely shows relationship"
   ]
  }
 ],
 "metadata": {
  "kernelspec": {
   "display_name": "Python 3",
   "language": "python",
   "name": "python3"
  },
  "language_info": {
   "codemirror_mode": {
    "name": "ipython",
    "version": 3
   },
   "file_extension": ".py",
   "mimetype": "text/x-python",
   "name": "python",
   "nbconvert_exporter": "python",
   "pygments_lexer": "ipython3",
   "version": "3.8.8"
  }
 },
 "nbformat": 4,
 "nbformat_minor": 5
}
